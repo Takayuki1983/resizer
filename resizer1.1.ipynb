{
 "cells": [
  {
   "cell_type": "code",
   "execution_count": 4,
   "metadata": {},
   "outputs": [
    {
     "name": "stdout",
     "output_type": "stream",
     "text": [
      "注意：Exifの回転が無視されます\n",
      "長辺何ピクセルにリサイズしますか？500\n",
      "おしまい\n"
     ]
    }
   ],
   "source": [
    "import os\n",
    "import pathlib\n",
    "import tkinter, tkinter.filedialog\n",
    "import glob\n",
    "import shutil\n",
    "from PIL import Image, ImageFilter\n",
    "\n",
    "\n",
    "def find_all_files(directory):\n",
    "    for root, dirs, files in os.walk(directory):\n",
    "        yield root\n",
    "        for file in files:\n",
    "            yield os.path.join(root, file)\n",
    "\n",
    "print('注意：Exifの回転が無視されます')\n",
    "val = input('長辺何ピクセルにリサイズしますか？')            \n",
    "            \n",
    "#元画像フォルダー選択    \n",
    "msg = 'リサイズしたい画像フォルダ（サブ可）を選んでください（拡張子は.jpgのみ対応）'    \n",
    "orign_dir_path = tkinter.filedialog.askdirectory(title=msg)    \n",
    "if (not orign_dir_path):#[キャンセル]クリック時の処理    \n",
    "    print('フォルダーを選んでください。')\n",
    "    sys.exit()\n",
    "\n",
    "\n",
    "all_picture_path = []\n",
    "jpg_path = []\n",
    "\n",
    "for file in find_all_files(orign_dir_path):\n",
    "    all_picture_path.append(file)\n",
    "\n",
    "#print(len(all_picture_path))\n",
    "#print(all_picture_path)\n",
    "\n",
    "\n",
    "for file in all_picture_path:\n",
    "    base, ext = os.path.splitext(file)\n",
    "    if ext == '.jpg':\n",
    "        #print('file:{},ext:{}'.format(file,ext))\n",
    "        jpg_path.append(file)\n",
    "        \n",
    "#print(jpg_path)\n",
    "\n",
    "\n",
    "i = 0\n",
    "\n",
    "\n",
    "while i < len(jpg_path):\n",
    "    img = Image.open(jpg_path[i])\n",
    "    w_img, h_img = img.size\n",
    "    \n",
    "    if int(w_img) > int(h_img):\n",
    "        #print('横')\n",
    "        img_resize = img.resize((int(val), int(int(h_img) *(int(val)/int(w_img)))),resample=Image.LANCZOS)\n",
    "            \n",
    "    elif int(w_img) < int(h_img):\n",
    "        #print('縦')\n",
    "        img_resize = img.resize((int(int(w_img) *(int(val)/int(h_img))), int(val)),resample=Image.LANCZOS)\n",
    "\n",
    "    img_resize.save(jpg_path[i], quality=100, dpi=(300, 300))\n",
    "\n",
    "    i = i + 1\n",
    "       \n",
    "   # percentage = (int(i)/int(len(folder_list)))\n",
    "   # print(percentage*100)\n",
    "             \n",
    "print('おしまい')"
   ]
  },
  {
   "cell_type": "code",
   "execution_count": null,
   "metadata": {},
   "outputs": [],
   "source": []
  }
 ],
 "metadata": {
  "kernelspec": {
   "display_name": "Python 3",
   "language": "python",
   "name": "python3"
  },
  "language_info": {
   "codemirror_mode": {
    "name": "ipython",
    "version": 3
   },
   "file_extension": ".py",
   "mimetype": "text/x-python",
   "name": "python",
   "nbconvert_exporter": "python",
   "pygments_lexer": "ipython3",
   "version": "3.7.3"
  },
  "toc": {
   "base_numbering": 1,
   "nav_menu": {},
   "number_sections": true,
   "sideBar": true,
   "skip_h1_title": false,
   "title_cell": "Table of Contents",
   "title_sidebar": "Contents",
   "toc_cell": false,
   "toc_position": {},
   "toc_section_display": true,
   "toc_window_display": false
  }
 },
 "nbformat": 4,
 "nbformat_minor": 2
}
